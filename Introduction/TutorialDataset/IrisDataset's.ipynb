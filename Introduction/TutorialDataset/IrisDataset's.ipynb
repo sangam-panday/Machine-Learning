{
  "nbformat": 4,
  "nbformat_minor": 0,
  "metadata": {
    "colab": {
      "provenance": []
    },
    "kernelspec": {
      "name": "python3",
      "display_name": "Python 3"
    },
    "language_info": {
      "name": "python"
    }
  },
  "cells": [
    {
      "cell_type": "code",
      "execution_count": 14,
      "metadata": {
        "colab": {
          "base_uri": "https://localhost:8080/"
        },
        "id": "F-dQlt5z9z07",
        "outputId": "7120abc9-200e-4fdb-962b-948da745f33a"
      },
      "outputs": [
        {
          "output_type": "stream",
          "name": "stdout",
          "text": [
            "0.96\n",
            "VersiColor\n"
          ]
        }
      ],
      "source": [
        "from sklearn import datasets\n",
        "from sklearn.model_selection import train_test_split\n",
        "from sklearn.neighbors import KNeighborsClassifier\n",
        "from sklearn.metrics import accuracy_score\n",
        "\n",
        "iris = datasets.load_iris()\n",
        "\n",
        "features = iris.data\n",
        "labels = iris.target\n",
        "\n",
        "features_train, features_test, labels_train, labels_test = train_test_split(features, labels, test_size = 0.5)\n",
        "\n",
        "\"\"\"print(f\"Length of total features: {len(features)}\")\n",
        "print(f\"Length of train features: {len(features_train)}\")\n",
        "print(f\"Length of test features: {len(features_test)}\")\n",
        "\n",
        "print(f\"Length of total labels: {len(labels)}\")\n",
        "print(f\"Length of train labels: {len(labels_train)}\")\n",
        "print(f\"Length of test labels: {len(labels_test)}\")\"\"\"\n",
        "\n",
        "my_classifier = KNeighborsClassifier()\n",
        "my_classifier.fit(features_train, labels_train)\n",
        "prediction = my_classifier.predict(features_test)\n",
        "\n",
        "print(accuracy_score(prediction, labels_test))\n",
        "\n",
        "iris1 = [[4.7, 2.5, 3.1, 1.2]]\n",
        "iris_prediction = my_classifier.predict(iris1)\n",
        "\n",
        "if iris_prediction[0] == 0:\n",
        "  print(\"Setosa\")\n",
        "elif iris_prediction[0] == 1:\n",
        "  print(\"VersiColor\")\n",
        "elif iris_prediction[0] == 1:\n",
        "  print(\"Verginica\")"
      ]
    }
  ]
}