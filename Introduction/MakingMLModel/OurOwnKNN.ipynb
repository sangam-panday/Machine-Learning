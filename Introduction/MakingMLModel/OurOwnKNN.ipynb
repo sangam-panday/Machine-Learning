{
  "nbformat": 4,
  "nbformat_minor": 0,
  "metadata": {
    "colab": {
      "provenance": []
    },
    "kernelspec": {
      "name": "python3",
      "display_name": "Python 3"
    },
    "language_info": {
      "name": "python"
    }
  },
  "cells": [
    {
      "cell_type": "code",
      "execution_count": 6,
      "metadata": {
        "colab": {
          "base_uri": "https://localhost:8080/"
        },
        "id": "lIti-lFiMMGs",
        "outputId": "dd90e2f5-1f65-4988-8263-9d65f8755caa"
      },
      "outputs": [
        {
          "output_type": "stream",
          "name": "stdout",
          "text": [
            "0.9333333333333333\n"
          ]
        }
      ],
      "source": [
        "from sklearn import datasets\n",
        "from sklearn.model_selection import train_test_split\n",
        "from scipy.spatial import distance\n",
        "from sklearn.metrics import accuracy_score\n",
        "\n",
        "def euc(a, b):\n",
        "  return distance.euclidean(a, b)\n",
        "\n",
        "class ScrappyKNN():\n",
        "  def fit(self, features_train, labels_train):\n",
        "    self.features_train = features_train\n",
        "    self.labels_train = labels_train\n",
        "\n",
        "  def predict(self, features_test):\n",
        "    prediction = []\n",
        "    for items in features_test:\n",
        "      label = self.closest(items)\n",
        "      prediction.append(label)\n",
        "    return prediction\n",
        "\n",
        "  def closest(self, items):\n",
        "    best_dist = euc(items, self.features_train[0])\n",
        "    best_index = 0\n",
        "    for i in range(1, len(self.features_train)):\n",
        "      dist = euc(items, self.features_train[i])\n",
        "      if dist < best_dist:\n",
        "        best_dist = dist\n",
        "        best_index = i\n",
        "    return self.labels_train[best_index]\n",
        "\n",
        "\n",
        "iris = datasets.load_iris()\n",
        "\n",
        "features = iris.data\n",
        "labels = iris.target\n",
        "\n",
        "features_train, features_test, labels_train, labels_test = train_test_split(features, labels, test_size=0.5)\n",
        "\n",
        "my_classifier = ScrappyKNN()\n",
        "my_classifier.fit(features_train, labels_train)\n",
        "prediction = my_classifier.predict(features_test)\n",
        "\n",
        "print(accuracy_score(prediction, labels_test))\n"
      ]
    }
  ]
}